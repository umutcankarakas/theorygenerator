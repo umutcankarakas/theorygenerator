{
  "nbformat": 4,
  "nbformat_minor": 0,
  "metadata": {
    "colab": {
      "name": "Untitled5.ipynb",
      "provenance": [],
      "authorship_tag": "ABX9TyMiEqV/ksWI4H9M1nh/zPQG",
      "include_colab_link": true
    },
    "kernelspec": {
      "name": "python3",
      "display_name": "Python 3"
    }
  },
  "cells": [
    {
      "cell_type": "markdown",
      "metadata": {
        "id": "view-in-github",
        "colab_type": "text"
      },
      "source": [
        "<a href=\"https://colab.research.google.com/github/umutcankarakas/theorygenerator/blob/master/model.ipynb\" target=\"_parent\"><img src=\"https://colab.research.google.com/assets/colab-badge.svg\" alt=\"Open In Colab\"/></a>"
      ]
    },
    {
      "cell_type": "code",
      "metadata": {
        "id": "63HLrqqLqijG",
        "colab_type": "code",
        "colab": {
          "base_uri": "https://localhost:8080/",
          "height": 368
        },
        "outputId": "1ab73884-b99d-41ac-9769-02a18c32ae91"
      },
      "source": [
        "from fastai.basics import *\n",
        "from fastai.text.models.transformer import TransformerXL\n",
        "from attention_mask import rand_window_mask\n",
        "\n",
        "class MusicTransformerXL(TransformerXL):\n",
        "    \"Exactly like fastai's TransformerXL, but with more aggressive attention mask: see `rand_window_mask`\"\n",
        "    def __init__(self, *args, encode_position=True, mask_steps=1, **kwargs):\n",
        "        import inspect\n",
        "        sig = inspect.signature(TransformerXL)\n",
        "        arg_params = { k:kwargs[k] for k in sig.parameters if k in kwargs }\n",
        "        super().__init__(*args, **arg_params)\n",
        "\n",
        "        self.encode_position = encode_position\n",
        "        if self.encode_position: self.beat_enc = BeatPositionEncoder(kwargs['d_model'])\n",
        "            \n",
        "        self.mask_steps=mask_steps\n",
        "        \n",
        "        \n",
        "    def forward(self, x):\n",
        "        #The hidden state has to be initiliazed in the forward pass for nn.DataParallel\n",
        "        if self.mem_len > 0 and not self.init: \n",
        "            self.reset()\n",
        "            self.init = True\n",
        "\n",
        "        benc = 0\n",
        "        if self.encode_position:\n",
        "            x,pos = x['x'], x['pos']\n",
        "            benc = self.beat_enc(pos)\n",
        "\n",
        "        bs,x_len = x.size()\n",
        "        inp = self.drop_emb(self.encoder(x) + benc) #.mul_(self.d_model ** 0.5)\n",
        "        m_len = self.hidden[0].size(1) if hasattr(self, 'hidden') and len(self.hidden[0].size()) > 1 else 0\n",
        "        seq_len = m_len + x_len\n",
        "        \n",
        "        mask = rand_window_mask(x_len, m_len, inp.device, max_size=self.mask_steps, is_eval=not self.training) if self.mask else None\n",
        "        if m_len == 0: mask[...,0,0] = 0\n",
        "        #[None,:,:None] for einsum implementation of attention\n",
        "        hids = []\n",
        "        pos = torch.arange(seq_len-1, -1, -1, device=inp.device, dtype=inp.dtype)\n",
        "        pos_enc = self.pos_enc(pos)\n",
        "        hids.append(inp)\n",
        "        for i, layer in enumerate(self.layers):\n",
        "            mem = self.hidden[i] if self.mem_len > 0 else None\n",
        "            inp = layer(inp, r=pos_enc, u=self.u, v=self.v, mask=mask, mem=mem)\n",
        "            hids.append(inp)\n",
        "        core_out = inp[:,-x_len:]\n",
        "        if self.mem_len > 0 : self._update_mems(hids)\n",
        "        return (self.hidden if self.mem_len > 0 else [core_out]),[core_out]\n",
        "\n",
        "\n",
        " # Beat encoder\n",
        "class BeatPositionEncoder(nn.Module):\n",
        "    \"Embedding + positional encoding + dropout\"\n",
        "    def __init__(self, emb_sz:int, beat_len=32, max_bar_len=1024):\n",
        "        super().__init__()\n",
        "\n",
        "        self.beat_len, self.max_bar_len = beat_len, max_bar_len\n",
        "        self.beat_enc = nn.Embedding(beat_len, emb_sz, padding_idx=0)\n",
        "        self.bar_enc = nn.Embedding(max_bar_len, emb_sz, padding_idx=0)\n",
        "    \n",
        "    def forward(self, pos):\n",
        "        beat_enc = self.beat_enc(pos % self.beat_len)\n",
        "        bar_pos = pos // self.beat_len % self.max_bar_len\n",
        "        bar_pos[bar_pos >= self.max_bar_len] = self.max_bar_len - 1\n",
        "        bar_enc = self.bar_enc((bar_pos))\n",
        "        return beat_enc + bar_enc"
      ],
      "execution_count": 1,
      "outputs": [
        {
          "output_type": "error",
          "ename": "ModuleNotFoundError",
          "evalue": "ignored",
          "traceback": [
            "\u001b[0;31m---------------------------------------------------------------------------\u001b[0m",
            "\u001b[0;31mModuleNotFoundError\u001b[0m                       Traceback (most recent call last)",
            "\u001b[0;32m<ipython-input-1-6ee946f97297>\u001b[0m in \u001b[0;36m<module>\u001b[0;34m()\u001b[0m\n\u001b[1;32m      1\u001b[0m \u001b[0;32mfrom\u001b[0m \u001b[0mfastai\u001b[0m\u001b[0;34m.\u001b[0m\u001b[0mbasics\u001b[0m \u001b[0;32mimport\u001b[0m \u001b[0;34m*\u001b[0m\u001b[0;34m\u001b[0m\u001b[0;34m\u001b[0m\u001b[0m\n\u001b[1;32m      2\u001b[0m \u001b[0;32mfrom\u001b[0m \u001b[0mfastai\u001b[0m\u001b[0;34m.\u001b[0m\u001b[0mtext\u001b[0m\u001b[0;34m.\u001b[0m\u001b[0mmodels\u001b[0m\u001b[0;34m.\u001b[0m\u001b[0mtransformer\u001b[0m \u001b[0;32mimport\u001b[0m \u001b[0mTransformerXL\u001b[0m\u001b[0;34m\u001b[0m\u001b[0;34m\u001b[0m\u001b[0m\n\u001b[0;32m----> 3\u001b[0;31m \u001b[0;32mfrom\u001b[0m \u001b[0mattention_mask\u001b[0m \u001b[0;32mimport\u001b[0m \u001b[0mrand_window_mask\u001b[0m\u001b[0;34m\u001b[0m\u001b[0;34m\u001b[0m\u001b[0m\n\u001b[0m\u001b[1;32m      4\u001b[0m \u001b[0;34m\u001b[0m\u001b[0m\n\u001b[1;32m      5\u001b[0m \u001b[0;32mclass\u001b[0m \u001b[0mMusicTransformerXL\u001b[0m\u001b[0;34m(\u001b[0m\u001b[0mTransformerXL\u001b[0m\u001b[0;34m)\u001b[0m\u001b[0;34m:\u001b[0m\u001b[0;34m\u001b[0m\u001b[0;34m\u001b[0m\u001b[0m\n",
            "\u001b[0;31mModuleNotFoundError\u001b[0m: No module named 'attention_mask'",
            "",
            "\u001b[0;31m---------------------------------------------------------------------------\u001b[0;32m\nNOTE: If your import is failing due to a missing package, you can\nmanually install dependencies using either !pip or !apt.\n\nTo view examples of installing some common dependencies, click the\n\"Open Examples\" button below.\n\u001b[0;31m---------------------------------------------------------------------------\u001b[0m\n"
          ]
        }
      ]
    }
  ]
}