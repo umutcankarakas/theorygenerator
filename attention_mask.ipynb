{
  "nbformat": 4,
  "nbformat_minor": 0,
  "metadata": {
    "colab": {
      "name": "attention_mask.ipynb",
      "provenance": [],
      "authorship_tag": "ABX9TyPp4hc19Anm3wC+eE2na8L9",
      "include_colab_link": true
    },
    "kernelspec": {
      "name": "python3",
      "display_name": "Python 3"
    }
  },
  "cells": [
    {
      "cell_type": "markdown",
      "metadata": {
        "id": "view-in-github",
        "colab_type": "text"
      },
      "source": [
        "<a href=\"https://colab.research.google.com/github/umutcankarakas/theorygenerator/blob/master/attention_mask.ipynb\" target=\"_parent\"><img src=\"https://colab.research.google.com/assets/colab-badge.svg\" alt=\"Open In Colab\"/></a>"
      ]
    },
    {
      "cell_type": "code",
      "metadata": {
        "id": "iIgX-5Dt8yX2",
        "colab_type": "code",
        "colab": {}
      },
      "source": [
        "import numpy as np\n",
        "import torch\n",
        "\n",
        "def window_mask(x_len, device, m_len=0, size=(1,1)):\n",
        "    win_size,k = size\n",
        "    mem_mask = torch.zeros((x_len,m_len), device=device)\n",
        "    tri_mask = torch.triu(torch.ones((x_len//win_size+1,x_len//win_size+1), device=device),diagonal=k)\n",
        "    window_mask = tri_mask.repeat_interleave(win_size,dim=0).repeat_interleave(win_size,dim=1)[:x_len,:x_len]\n",
        "    if x_len: window_mask[...,0] = 0 # Always allowing first index to see. Otherwise you'll get NaN loss\n",
        "    mask = torch.cat((mem_mask, window_mask), dim=1)[None,None]\n",
        "    return mask.bool() if hasattr(mask, 'bool') else mask.byte()\n",
        "    \n",
        "def rand_window_mask(x_len,m_len,device,max_size:int=None,p:float=0.2,is_eval:bool=False):\n",
        "    if is_eval or np.random.rand() >= p or max_size is None: \n",
        "        win_size,k = (1,1)\n",
        "    else: win_size,k = (np.random.randint(0,max_size)+1,0)\n",
        "    return window_mask(x_len, device, m_len, size=(win_size,k))\n",
        "\n",
        "def lm_mask(x_len, device):\n",
        "    mask = torch.triu(torch.ones((x_len, x_len), device=device), diagonal=1)[None,None]\n",
        "    return mask.bool() if hasattr(mask, 'bool') else mask.byte()"
      ],
      "execution_count": 0,
      "outputs": []
    }
  ]
}